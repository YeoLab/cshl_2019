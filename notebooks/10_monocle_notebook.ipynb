{
 "cells": [
  {
   "cell_type": "code",
   "execution_count": null,
   "metadata": {},
   "outputs": [],
   "source": [
    "library(dplyr)\n",
    "library(monocle)\n",
    "library(RColorBrewer)"
   ]
  },
  {
   "cell_type": "markdown",
   "metadata": {},
   "source": [
    "## Monocle requires an object of the CellDataSet class\n",
    "http://cole-trapnell-lab.github.io/monocle-release/docs/\n",
    "\n",
    "1. The class is compatible with previous Bioconductor class\n",
    "2. three input files are required:\n",
    "    1. a numeric matrix of expression values, where rows are genes, and columns are cells\n",
    "    2. phenoData, where rows are cells, and columns are cell attributes\n",
    "    3. featureData, where rows are features (eg, genes) and columns are gene attributes.\n",
    "3. Do NOT normalize data yourself!!\n",
    "4. UMIs or read counts are better modeled with negative binomial."
   ]
  },
  {
   "cell_type": "markdown",
   "metadata": {},
   "source": [
    "## 1. read in data for monocle"
   ]
  },
  {
   "cell_type": "code",
   "execution_count": null,
   "metadata": {},
   "outputs": [],
   "source": [
    "var <- read.csv('/oasis/tscc/scratch/CSHL_single_cell_2019/for_monocle/var2318_mncl.csv', header = T, row.names = 1)\n",
    "obs <- read.csv('/oasis/tscc/scratch/CSHL_single_cell_2019/for_monocle/obs2318_mncl.csv', header = T, row.names = 1)\n",
    "dim(var)\n",
    "dim(obs)"
   ]
  },
  {
   "cell_type": "code",
   "execution_count": null,
   "metadata": {},
   "outputs": [],
   "source": [
    "exp <- read.table('/oasis/tscc/scratch/CSHL_single_cell_2019/for_monocle/exp2318_mncl.txt')\n",
    "dim(exp)"
   ]
  },
  {
   "cell_type": "code",
   "execution_count": null,
   "metadata": {},
   "outputs": [],
   "source": [
    "# create a CellDataSet object\n",
    "\n",
    "pd <- AnnotatedDataFrame(data = obs)\n",
    "fd <- AnnotatedDataFrame(data = var)\n",
    "colnames(exp) <- rownames(pd)\n",
    "rownames(exp) <- rownames(fd)\n",
    "head(exp)"
   ]
  },
  {
   "cell_type": "code",
   "execution_count": null,
   "metadata": {},
   "outputs": [],
   "source": [
    "# create the CellDataSet object\n",
    "\n",
    "cds <- newCellDataSet(cellData=as.matrix(exp), phenoData=pd, featureData=fd, expressionFamily=negbinomial.size())"
   ]
  },
  {
   "cell_type": "code",
   "execution_count": null,
   "metadata": {
    "scrolled": false
   },
   "outputs": [],
   "source": [
    "# take a look of the data structure of CellDataSet object\n",
    "str(cds)"
   ]
  },
  {
   "cell_type": "code",
   "execution_count": null,
   "metadata": {},
   "outputs": [],
   "source": [
    "slotNames(cds)"
   ]
  },
  {
   "cell_type": "markdown",
   "metadata": {},
   "source": [
    "## 2. pre-processing\n",
    "Since we have already filtered the dataset in scanpy, we will go directly to normalization"
   ]
  },
  {
   "cell_type": "code",
   "execution_count": null,
   "metadata": {},
   "outputs": [],
   "source": [
    "dim(cds)"
   ]
  },
  {
   "cell_type": "code",
   "execution_count": null,
   "metadata": {},
   "outputs": [],
   "source": [
    "#Normalize the count data\n",
    "\n",
    "cds <- estimateSizeFactors(cds)"
   ]
  },
  {
   "cell_type": "code",
   "execution_count": null,
   "metadata": {},
   "outputs": [],
   "source": [
    "#Calculate dispersions to filter for highly variable genes\n",
    "\n",
    "cds <- estimateDispersions(cds)"
   ]
  },
  {
   "cell_type": "code",
   "execution_count": null,
   "metadata": {},
   "outputs": [],
   "source": [
    "head(fData(cds))"
   ]
  },
  {
   "cell_type": "code",
   "execution_count": null,
   "metadata": {},
   "outputs": [],
   "source": [
    "cds <- detectGenes(cds, min_expr = 0.1)\n",
    "dim(fData(cds))"
   ]
  },
  {
   "cell_type": "code",
   "execution_count": null,
   "metadata": {},
   "outputs": [],
   "source": [
    "head(fData(cds))"
   ]
  },
  {
   "cell_type": "code",
   "execution_count": null,
   "metadata": {},
   "outputs": [],
   "source": [
    "#Filter for Stem, EP, TA, and Enterocytes, since our main goal here is to reconstruct the differentiation trajectory of the enterocytes\n",
    "# generate a cell_mask \n",
    "\n",
    "cell_types = as.character(pData(cds)$louvain_final)             \n",
    "cell_mask = rep(FALSE, length(cell_types))                      \n",
    "cells_to_keep = c(\"Stem\", \"EP\", \"TA\", \"Enterocyte\")             \n",
    "for (item in cells_to_keep) {cell_mask = cell_mask | startsWith(cell_types, item)}\n",
    "print(\"Number of cells after filtering:\")\n",
    "print(sum(cell_mask))\n",
    "print(\"\")"
   ]
  },
  {
   "cell_type": "code",
   "execution_count": null,
   "metadata": {},
   "outputs": [],
   "source": [
    "# apply cell_mask\n",
    "\n",
    "cds <- cds[,cell_mask]\n",
    "dim(cds)"
   ]
  },
  {
   "cell_type": "code",
   "execution_count": null,
   "metadata": {},
   "outputs": [],
   "source": [
    "str(fData(cds))"
   ]
  },
  {
   "cell_type": "markdown",
   "metadata": {},
   "source": [
    "### 3. pseudotiming projection"
   ]
  },
  {
   "cell_type": "code",
   "execution_count": null,
   "metadata": {},
   "outputs": [],
   "source": [
    "#Do dimensionality reduction\n",
    "# DDRTree: discriminative dimensionality reduction with Trees\n",
    "\n",
    "cds <- reduceDimension(cds, norm_method = 'vstExprs', reduction_method='DDRTree', verbose = F, max_components = 7)"
   ]
  },
  {
   "cell_type": "code",
   "execution_count": null,
   "metadata": {},
   "outputs": [],
   "source": [
    "#Run for the first time to get the ordering\n",
    "\n",
    "cds <- orderCells(cds)"
   ]
  },
  {
   "cell_type": "markdown",
   "metadata": {},
   "source": [
    "### Excercise 1: Could you find out what changes did you make to the cds object by ordering the cells?\n",
    "your code here:"
   ]
  },
  {
   "cell_type": "code",
   "execution_count": null,
   "metadata": {},
   "outputs": [],
   "source": []
  },
  {
   "cell_type": "code",
   "execution_count": null,
   "metadata": {},
   "outputs": [],
   "source": [
    "# 'root cell' need to be manually defined.\n",
    "# Find the correct root state that corresponds to the 'Stem' cluster\n",
    "\n",
    "tab1 <- table(pData(cds)$State, pData(cds)$louvain_final)\n",
    "id = which(colnames(tab1) == 'Stem')\n",
    "root_name = names(which.max(tab1[,id]))"
   ]
  },
  {
   "cell_type": "code",
   "execution_count": null,
   "metadata": {},
   "outputs": [],
   "source": [
    "#Run a second time to get the correct root state that overlaps with Stem cells\n",
    "\n",
    "cds <- orderCells(cds, root_state=root_name)"
   ]
  },
  {
   "cell_type": "markdown",
   "metadata": {},
   "source": [
    "### Have fun plotting!!"
   ]
  },
  {
   "cell_type": "code",
   "execution_count": null,
   "metadata": {
    "scrolled": false
   },
   "outputs": [],
   "source": [
    "#Visualize pseudotime\n",
    "options(repr.plot.width=12, repr.plot.height=8)  # set the size of the plot\n",
    "\n",
    "plot_cell_trajectory(cds, color_by=\"Pseudotime\")\n",
    "# the dark circles mark the transitions "
   ]
  },
  {
   "cell_type": "code",
   "execution_count": null,
   "metadata": {},
   "outputs": [],
   "source": [
    "plot_cell_trajectory(cds, color_by=\"louvain_final\", show_branch_points = FALSE, cell_size = 1.0)"
   ]
  },
  {
   "cell_type": "code",
   "execution_count": null,
   "metadata": {
    "scrolled": false
   },
   "outputs": [],
   "source": [
    "options(repr.plot.width=16, repr.plot.height=10)\n",
    "\n",
    "plot_cell_trajectory(cds, color_by='State', cell_size = 1.0) + facet_wrap(~louvain_final, nrow=2)"
   ]
  },
  {
   "cell_type": "markdown",
   "metadata": {},
   "source": [
    "### Excercise 2: Could you plot the pseudotime trajectory with other dimensions?\n",
    "Hits:\n",
    "1. when we did dimension reduction, we generated 7 components. In the above plot, we are plotting component 1 and 2.\n",
    "2. help(plot_cell_trajectory)\n",
    "\n",
    "your code here:\n"
   ]
  },
  {
   "cell_type": "code",
   "execution_count": null,
   "metadata": {},
   "outputs": [],
   "source": []
  },
  {
   "cell_type": "markdown",
   "metadata": {},
   "source": [
    "### Excercise 3: The data came from two different mice (specified as 'donor') in two independent experiments.\n",
    "Can you check whether there is 'batch effect'?\n",
    "\n",
    "your code here:\n"
   ]
  },
  {
   "cell_type": "code",
   "execution_count": null,
   "metadata": {},
   "outputs": [],
   "source": []
  },
  {
   "cell_type": "code",
   "execution_count": null,
   "metadata": {},
   "outputs": [],
   "source": [
    "#Get a nice colour map\n",
    "custom_colour_map = brewer.pal(length(unique(pData(cds)$louvain_final)),'Paired')\n",
    "\n",
    "#Find the correct root state that coresponds to the 'Stem' cluster\n",
    "tab1 <- table(pData(cds)$State, pData(cds)$louvain_final)\n",
    "id = which(colnames(tab1) == 'Stem')\n",
    "root_name = names(which.max(tab1[,id]))"
   ]
  },
  {
   "cell_type": "markdown",
   "metadata": {},
   "source": [
    "When cells are colored and plotted based on cell states, it gives us an intuition that everytime there is a branch point, a new cell state is called.\n",
    "Technically, this is achieved through a depth-first search (DFS) of the learned principal tree, starting from the root cell. Everytime a branch point was reached, a new state was assigned.\n",
    "\n",
    "You may also notice the branch point indexes are not in order. The index for the branch point is only assigned during the trajectory plotting process. So the 'cell state' and 'branching point' were determined by two different algorithms, thus not matching each other, unfortuantely.\n",
    "\n",
    "https://github.com/cole-trapnell-lab/monocle-release/issues/167"
   ]
  },
  {
   "cell_type": "code",
   "execution_count": null,
   "metadata": {},
   "outputs": [],
   "source": [
    "options(repr.plot.width=6, repr.plot.height=4)\n",
    "\n",
    "plot_complex_cell_trajectory(cds, color_by = 'State', show_branch_points = T, \n",
    "                             cell_size = 2, cell_link_size = 1, root_states = c(root_name)) +\n",
    "scale_size(range = c(0.2, 0.2)) +\n",
    "theme(legend.position=\"left\", legend.title=element_blank(), legend.text=element_text(size=rel(1))) +\n",
    "guides(colour = guide_legend(override.aes = list(size=3))) \n"
   ]
  },
  {
   "cell_type": "code",
   "execution_count": null,
   "metadata": {},
   "outputs": [],
   "source": [
    "# Visualize with our cluster labels\n",
    "\n",
    "options(repr.plot.width=8, repr.plot.height=6)\n",
    "\n",
    "plot_complex_cell_trajectory(cds, color_by = 'louvain_final', show_branch_points = T, \n",
    "                             cell_size = 2, cell_link_size = 1, root_states = c(root_name)) +\n",
    "scale_size(range = c(0.2, 0.2)) +\n",
    "theme(legend.position=\"left\", legend.title=element_blank(), legend.text=element_text(size=rel(1.5))) +\n",
    "guides(colour = guide_legend(override.aes = list(size=6))) + \n",
    "scale_color_manual(values = custom_colour_map)"
   ]
  },
  {
   "cell_type": "code",
   "execution_count": null,
   "metadata": {},
   "outputs": [],
   "source": [
    "# Visualize with our cluster labels\n",
    "options(repr.plot.width=10, repr.plot.height=10)\n",
    "\n",
    "plot_complex_cell_trajectory(cds, color_by = 'louvain_final', show_branch_points = T, \n",
    "                             cell_size = 2, cell_link_size = 1, root_states = c(root_name)) +\n",
    "scale_size(range = c(0.2, 0.2)) +\n",
    "theme(legend.position=\"left\", legend.title=element_blank(), legend.text=element_text(size=rel(1.5))) +\n",
    "guides(colour = guide_legend(override.aes = list(size=6))) + \n",
    "scale_color_manual(values = custom_colour_map) + \n",
    "facet_wrap(~louvain_final, nrow=2)"
   ]
  },
  {
   "cell_type": "markdown",
   "metadata": {},
   "source": [
    "#### plot genes of interests along the pseudotime trajectory"
   ]
  },
  {
   "cell_type": "code",
   "execution_count": null,
   "metadata": {},
   "outputs": [],
   "source": [
    "options(repr.plot.width=6, repr.plot.height=4)\n",
    "\n",
    "my_genes <- c('Lgr5','Ascl2','Apoa4','Neurod1')\n",
    "gene_mask <- row.names(fData(cds)) %in% my_genes\n",
    "\n",
    "cds_subset <- cds[gene_mask,]\n",
    "plot_genes_in_pseudotime(cds_subset, color_by = \"louvain_final\")"
   ]
  },
  {
   "cell_type": "markdown",
   "metadata": {},
   "source": [
    "## 4. Finding genes that change as a function of pseudotime\n",
    "\n",
    "Monocle's main job is to put cells in order of progress through a biological process (such as cell differentiation) without knowing which genes to look at ahead of time.\n",
    "\n",
    "Monocle assigns each cell a \"pseudotime\" value, which records its progress through the process in the experiment. The model can test against changes as a function of this value. Monocle uses the VGAM package to model a gene's expression level as a smooth, nonlinear function of pseudotime. "
   ]
  },
  {
   "cell_type": "code",
   "execution_count": null,
   "metadata": {},
   "outputs": [],
   "source": [
    "diff_test_res <- differentialGeneTest(cds, fullModelFormulaStr = '~sm.ns(Pseudotime)')"
   ]
  },
  {
   "cell_type": "code",
   "execution_count": null,
   "metadata": {},
   "outputs": [],
   "source": [
    "# select top 6 genes to plot\n",
    "\n",
    "diff_test_res_ord <- diff_test_res[order(diff_test_res$qval),]\n",
    "my_pseudotime_gene <- row.names(diff_test_res_ord)[1:5]\n",
    "my_pseudotime_gene"
   ]
  },
  {
   "cell_type": "code",
   "execution_count": null,
   "metadata": {},
   "outputs": [],
   "source": [
    "options(repr.plot.width=6, repr.plot.height=6)\n",
    "\n",
    "plot_genes_in_pseudotime(cds[my_pseudotime_gene,], color_by = \"louvain_final\")"
   ]
  },
  {
   "cell_type": "markdown",
   "metadata": {},
   "source": [
    "### clustering genes by pseudotemporal expression pattern\n",
    "Monocle can group genes that have similar trends, so you can analyze these groups to see what they have in common. \n",
    "plot_pseudotime_heatmap function generate a hierarchical clustering for the input genes. Clusters are for the genes."
   ]
  },
  {
   "cell_type": "code",
   "execution_count": null,
   "metadata": {},
   "outputs": [],
   "source": [
    "options(repr.plot.width=6, repr.plot.height=4)\n",
    "\n",
    "pseudotime_gene4cluster <- row.names(diff_test_res_ord)[1:50]\n",
    "\n",
    "pseudotime_cluster <- plot_pseudotime_heatmap(cds[pseudotime_gene4cluster,], num_clusters = 6, \n",
    "                        cores = 2,show_rownames = T, return_heatmap = T)"
   ]
  },
  {
   "cell_type": "code",
   "execution_count": null,
   "metadata": {},
   "outputs": [],
   "source": [
    "# we can check how many genes in each cluster: these are the genes covariate along the pseudotime trajectory.\n",
    "\n",
    "gene_cluster <- cutree(pseudotime_cluster$tree_row, 6)\n",
    "table(gene_cluster)"
   ]
  },
  {
   "cell_type": "code",
   "execution_count": null,
   "metadata": {},
   "outputs": [],
   "source": [
    "# we can pull out the genes in each cluster. \n",
    "names(gene_cluster[gene_cluster == 1])"
   ]
  },
  {
   "cell_type": "code",
   "execution_count": null,
   "metadata": {},
   "outputs": [],
   "source": [
    "str(names(gene_cluster[gene_cluster == 1]))"
   ]
  },
  {
   "cell_type": "markdown",
   "metadata": {},
   "source": [
    "### 5. Analyzing branches in single-cell trajectory\n",
    "What genes change as cells pass from the early developmental stage the top left of the tree through the branch? What genes are differentially expressed between the branches?\n",
    "\n",
    "BEAM: branched expression analysis modeling"
   ]
  },
  {
   "cell_type": "code",
   "execution_count": null,
   "metadata": {},
   "outputs": [],
   "source": [
    "options(repr.plot.width=5, repr.plot.height=4)\n",
    "plot_cell_trajectory(cds, color_by = 'louvain_final', cell_size = 0.5)"
   ]
  },
  {
   "cell_type": "code",
   "execution_count": null,
   "metadata": {},
   "outputs": [],
   "source": [
    "options(repr.plot.width=5, repr.plot.height=4)\n",
    "plot_cell_trajectory(cds, x = 1, y = 3, color_by = 'louvain_final', cell_size = 0.5)"
   ]
  },
  {
   "cell_type": "code",
   "execution_count": null,
   "metadata": {},
   "outputs": [],
   "source": [
    "beam_res <- BEAM(cds, branch_point = 2, core = 2)"
   ]
  },
  {
   "cell_type": "code",
   "execution_count": null,
   "metadata": {},
   "outputs": [],
   "source": [
    "beam_res <- beam_res[order(beam_res$qval),]\n",
    "head(beam_res)"
   ]
  },
  {
   "cell_type": "markdown",
   "metadata": {},
   "source": [
    "This heatmap shows changes in both lineages. It also requires that you choose a branch point to inspect. Columns are points in pseudotime, rows are genes, and the beginning of pseudotime is in the middle of the heatmap.\n",
    "1. cell fate 1 matches up with mature/immature enterocytes\n",
    "2. cell fate 2 matches up with EP cells."
   ]
  },
  {
   "cell_type": "code",
   "execution_count": null,
   "metadata": {},
   "outputs": [],
   "source": [
    "options(repr.plot.width=6, repr.plot.height=6)\n",
    "my_branched_heatmap <- plot_genes_branched_heatmap(cds[row.names(subset(beam_res, qval < 1e-100)),],\n",
    "                                                   branch_point = 2,\n",
    "                                                   num_clusters = 8,\n",
    "                                                   cores = 2,\n",
    "                                                   show_rownames = TRUE,\n",
    "                                                   return_heatmap = TRUE)"
   ]
  },
  {
   "cell_type": "markdown",
   "metadata": {},
   "source": [
    "Let's look at this data!"
   ]
  },
  {
   "cell_type": "code",
   "execution_count": null,
   "metadata": {},
   "outputs": [],
   "source": [
    "head(my_branched_heatmap$annotation_row)"
   ]
  },
  {
   "cell_type": "code",
   "execution_count": null,
   "metadata": {},
   "outputs": [],
   "source": [
    "dim(my_branched_heatmap$annotation_row)"
   ]
  },
  {
   "cell_type": "code",
   "execution_count": null,
   "metadata": {},
   "outputs": [],
   "source": [
    "table(my_branched_heatmap$annotation_row$Cluster)"
   ]
  },
  {
   "cell_type": "code",
   "execution_count": null,
   "metadata": {},
   "outputs": [],
   "source": [
    "my_row <- my_branched_heatmap$annotation_row\n",
    "my_row <- data.frame(cluster = my_row$Cluster, gene = row.names(my_row), stringsAsFactors = F)\n",
    "head(my_row)"
   ]
  },
  {
   "cell_type": "code",
   "execution_count": null,
   "metadata": {},
   "outputs": [],
   "source": [
    "write.csv(my_row, '/home/ucsd-train20/ucsd-train20/data/processed_data/degenes_bp2.csv', row.names = T)"
   ]
  },
  {
   "cell_type": "markdown",
   "metadata": {},
   "source": [
    "Now, we will go to a different branch point 4, to investigate how stem cells are different from EP cell.\n",
    "plot_genes_branched_pseudotime function shows two kinetic trends, one for each lineage. "
   ]
  },
  {
   "cell_type": "code",
   "execution_count": null,
   "metadata": {},
   "outputs": [],
   "source": [
    "stemcell_genes <- c('Lgr5', 'Ascl2', 'Slc12a2', 'Axin2', 'Olfm4', 'Gkn3')\n",
    "stemcell_genes <- row.names(subset(cds, row.names(cds)%in% stemcell_genes))"
   ]
  },
  {
   "cell_type": "code",
   "execution_count": null,
   "metadata": {},
   "outputs": [],
   "source": [
    "options(repr.plot.width=6, repr.plot.height=6)\n",
    "\n",
    "plot_genes_branched_pseudotime(cds[stemcell_genes,],\n",
    "                       branch_point = 4,\n",
    "                       color_by = \"louvain_final\",\n",
    "                       ncol = 1) +\n",
    "scale_color_manual(values = custom_colour_map)"
   ]
  },
  {
   "cell_type": "markdown",
   "metadata": {},
   "source": [
    "### Excercise 4:\n",
    "We only looked at enterocyte differentiation in this example.\n",
    "Can you investigate the trajectory from stem cell, TA, to paneth cells?\n",
    "Can you identify the transcriptomic changes along with this stem->TA->paneth cells trajectory?\n",
    "\n"
   ]
  },
  {
   "cell_type": "code",
   "execution_count": null,
   "metadata": {},
   "outputs": [],
   "source": []
  },
  {
   "cell_type": "code",
   "execution_count": null,
   "metadata": {},
   "outputs": [],
   "source": [
    "sessionInfo()"
   ]
  },
  {
   "cell_type": "code",
   "execution_count": null,
   "metadata": {},
   "outputs": [],
   "source": []
  }
 ],
 "metadata": {
  "kernelspec": {
   "display_name": "R-monocle",
   "language": "R",
   "name": "r-monocle"
  },
  "language_info": {
   "codemirror_mode": "r",
   "file_extension": ".r",
   "mimetype": "text/x-r-source",
   "name": "R",
   "pygments_lexer": "r",
   "version": "3.5.1"
  }
 },
 "nbformat": 4,
 "nbformat_minor": 2
}
