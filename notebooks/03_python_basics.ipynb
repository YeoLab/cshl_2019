{
 "cells": [
  {
   "cell_type": "markdown",
   "metadata": {},
   "source": [
    "# 03 Python basics\n",
    "- In this notebook, you can explore the different functionalities of Jupyter."
   ]
  },
  {
   "cell_type": "markdown",
   "metadata": {},
   "source": [
    "# TL;DR (from 02_system_setup_Jupyter):\n",
    "\n",
    "```bash\n",
    "ssh ucsd-trainXY@tscc-login1.sdsc.edu\n",
    "cd ~\n",
    "ln -s /oasis/tscc/scratch/ucsd-trainXY ./scratch\n",
    "screen -d -r # OR screen if you don't already have an active session yet\n",
    "qsub -I -l walltime=6:00:00 -q home-yeo -l nodes=1:ppn=1\n",
    "jupyter notebook --ip=$(hostname --ip-address) --no-browser\n",
    "```"
   ]
  },
  {
   "cell_type": "markdown",
   "metadata": {},
   "source": [
    "# **Exercise 2: From a Cellranger (10X genomics scRNA pipeline), compile a list of useful metrics into a single table and save as a comma or tab-separated file**\n",
    "\n",
    "Use the outputs from two example cellranger runs:\n",
    "```bash\n",
    "/oasis/tscc/scratch/CSHL_single_cell_2019/programming_exercise_material/1k_heart_cells\n",
    "/oasis/tscc/scratch/CSHL_single_cell_2019/programming_exercise_material/1k_brain_cells\n",
    "```\n",
    "You may find the following packages useful (although they aren't necessary):\n",
    "- glob\n",
    "- pandas\n",
    "- pysam"
   ]
  },
  {
   "cell_type": "code",
   "execution_count": null,
   "metadata": {},
   "outputs": [],
   "source": [
    "# Exercise 3: "
   ]
  }
 ],
 "metadata": {
  "kernelspec": {
   "display_name": "Python 3",
   "language": "python",
   "name": "python3"
  },
  "language_info": {
   "codemirror_mode": {
    "name": "ipython",
    "version": 3
   },
   "file_extension": ".py",
   "mimetype": "text/x-python",
   "name": "python",
   "nbconvert_exporter": "python",
   "pygments_lexer": "ipython3",
   "version": "3.6.7"
  }
 },
 "nbformat": 4,
 "nbformat_minor": 2
}
