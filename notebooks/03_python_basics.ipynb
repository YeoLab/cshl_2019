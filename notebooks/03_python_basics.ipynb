{
 "cells": [
  {
   "cell_type": "markdown",
   "metadata": {},
   "source": [
    "# 03 Python basics\n",
    "- In this notebook, you can explore the different functionalities of Jupyter."
   ]
  },
  {
   "cell_type": "markdown",
   "metadata": {},
   "source": [
    "# TL;DR (from 02_system_setup_Jupyter):\n",
    "\n",
    "- login to TSCC and get an interactive node on a screen (terminal window #1):\n",
    "\n",
    "```bash\n",
    "ssh ucsd-trainXY@tscc-login1.sdsc.edu\n",
    "cd ~\n",
    "ln -s /oasis/tscc/scratch/ucsd-trainXY ./scratch\n",
    "screen -d -r # OR screen if you don't already have an active session yet\n",
    "qsub -I -l walltime=6:00:00 -q home-yeo -l nodes=1:ppn=1\n",
    "```\n",
    "\n",
    "- modify your TSCC .bashrc file to add aliases (terminal window #1):\n",
    "\n",
    "```bash\n",
    "IPYNB_PORT=2019 # pick any random number between 1024-9999. This should be unique (Don't worry if you don't now what number is unique, Jupyter will simply go to the next one if it isn't)\n",
    "alias ipynb=\"jupyter notebook --no-browser --port $IPYNB_PORT --no-browser &\" # deprecated in favor of jupyterlab.\n",
    "alias sshtscc=\"ssh -NR $IPYNB_PORT:localhost:$IPYNB_PORT tscc-login1 &\"\n",
    "...\n",
    "source ~/.bashrc\n",
    "ipynb sshtscc\n",
    "```\n",
    "\n",
    "- modify your local .bash_profile file to add aliases (terminal window #2):\n",
    "\n",
    "```bash\n",
    "IPYNB_PORT=2019 # Use the SAME port that you used on your \n",
    "alias tunneltscc=\"ssh -NL $IPYNB_PORT\\:localhost:$IPYNB_PORT ucsd-trainXY@tscc-login1.sdsc.edu &\"\n",
    "...\n",
    "source ~/.bash_profile\n",
    "tunneltscc\n",
    "```"
   ]
  },
  {
   "cell_type": "markdown",
   "metadata": {},
   "source": [
    "# **Exercise: From a Cellranger (10X genomics scRNA pipeline), compile a list of useful metrics into a table and save as a comma or tab-separated file**\n",
    "\n",
    "You decide which metrics are useful\n",
    "\n",
    "You may find the following packages useful (although they aren't necessary):\n",
    "- glob\n",
    "- pandas\n",
    "- pysam"
   ]
  },
  {
   "cell_type": "code",
   "execution_count": null,
   "metadata": {},
   "outputs": [],
   "source": []
  }
 ],
 "metadata": {
  "kernelspec": {
   "display_name": "python3-essential",
   "language": "python",
   "name": "python3-essential"
  },
  "language_info": {
   "codemirror_mode": {
    "name": "ipython",
    "version": 3
   },
   "file_extension": ".py",
   "mimetype": "text/x-python",
   "name": "python",
   "nbconvert_exporter": "python",
   "pygments_lexer": "ipython3",
   "version": "3.6.7"
  }
 },
 "nbformat": 4,
 "nbformat_minor": 2
}
