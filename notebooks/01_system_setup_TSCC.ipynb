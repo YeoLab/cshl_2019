{
 "cells": [
  {
   "cell_type": "markdown",
   "metadata": {},
   "source": [
    "# What is TSCC?\n",
    "- The [Triton Shared Computing Cluster (TSCC)](https://www.sdsc.edu/support/user_guides/tscc-quick-start.html) is the cluster that we (Yeo lab, others at UCSD) use for processing and analysis of single-cell RNASeq data. It is a part of the [San Diego Supercomputer Center](https://www.sdsc.edu/) which has an administrative team that helps us create/restore backups, install top-level updates, and manage the job submission software for scripts that can be distributed across multiple machines (nodes). \n",
    "- Having an external administrative team is useful for reducing the engineering overhead, however this also means we lack administrative (superuser, or \"[sudo](https://en.wikipedia.org/wiki/Sudo)\") privileges. <b>This is common among labs within large organizations and Universities</b>. Software that requires these privileges needs either a workaround or administrator help. "
   ]
  },
  {
   "cell_type": "markdown",
   "metadata": {},
   "source": [
    "# Terminology\n",
    "- **Unix**: Unix is a family of operating systems (think Windows or MacOS). Linux is a free* version of Unix, which has become the core for many distributions such as Centos, Ubuntu, and Fedora, each which specializes in different things. Since we're mostly going to be using Python and R (*scripting or interpreted language* as opposed to *compiled languages* like C or Java), it doesn't really matter which Unix distribution we're using so as long as the Python or R interpreter is installed. MacOSX was designed with Unix principles in mind, making it partially compatible with Unix and a popular choice among bioinformaticians. \n",
    "- **HPC**: High-Performance Computing (HPC) simply describes a computing environment specialized for high throughput or computationally demanding analysis. HPC clusters usually require additional software to manage job (script) submission and resources within and across its network of nodes (computers). TSCC uses the [TORQUE resource manager](https://en.wikipedia.org/wiki/TORQUE), so we will be running jobs by wrapping them inside TORQUE scripts (qscripts) and submitting them to the TORQUE resource manager. **Note**: Other HPC clusters may use other resource managers (SLURM is another popular one) and therefore will have different syntax, but the idea is the same.\n",
    "- **Anaconda**: Anaconda is an open-source distribution (collection of softwares) for scientific computing. It contains the Python interpreter as well as a bunch of other useful software packages (such as Scipy, Jupyter, Numpy, etc.), and conda. \n",
    "- **Conda**: conda is a package manager, or software that helps organize these packages, plus any dependencies, versions, metadata that comes with it.\n",
    "- **Containers**: a container is a unit of software that essentially wraps a package or distribution along with all dependencies in a portable/reproducible way. For our purposes, we can think of containers as easy ways to share a software installation.\n",
    "- **Singularity**: One popular containerization technology (another being Docker) that we will be using to share the software that you will be using throughout this course. Singularity containers (images) can be shared via two ways: the image itself (a single, larger file containing an operating system and any of the packages installed), or via instructions to create the image. We have several pre-made Singularity images on TSCC which can be called/accessed/run with another package management system called \"modules\". \n",
    "- **Local/remote**: \"Local\" usually refers to your own laptop/desktop, while \"remote\" will typically refer to the cluster or cloud instance that you are connecting to. You will almost always have a separate set of credentials (username/password) for each (for example, my local username is \"brianyee\" while my username on TSCC may be something like \"ucsd-train03\").\n",
    "- **Node (Cluster)**: A single node is one server/machine/computer. A cluster is comprised of a group of nodes. Each node that we have access to provides up to 16 cores (processors) and up to 126Gb of memory, managed by the job scheduler (Maui) and the resource manager (TORQUE). "
   ]
  },
  {
   "cell_type": "markdown",
   "metadata": {},
   "source": [
    "# Generate a public/private access key\n",
    "You should have generated a public and private key, which will link your local machine to the remote account we have for you on TSCC. Private keys can be thought of as a password that is stored on your computer and used to check whether or not it pairs properly with the public key, which I should have stored on your TSCC account. If you've already done this, great! Skip this section. If you haven't done so, follow these instructions:"
   ]
  },
  {
   "cell_type": "markdown",
   "metadata": {},
   "source": [
    "### Generate a public/private key pair (Mac/Ubuntu)"
   ]
  },
  {
   "cell_type": "markdown",
   "metadata": {},
   "source": [
    "- Open a terminal (Mac): Applications folder - Utilities - Launch Terminal\n",
    "- Type in the following command: \n",
    "```bash\n",
    "ssh-keygen -t rsa\n",
    "``` \n",
    "\n",
    "then press ```Enter```\n",
    "\n",
    "Enter a passphrase (the cursor won't move), which is kind of like a password for your private key (password protecting a password). It will ask you to do this twice to make sure there aren't any typos. \n",
    "#### REMEMBER THIS PASSPHRASE!\n",
    "\n",
    "This is what you will use to log on to TSCC. Do not include the * character in the passphrase.\n",
    "\n",
    "You will be prompted with a location to save the key. Press Enter to accept the default setting (it should look something like ```/Users/emily/.ssh/id_rsa``` except the ```/Users/emily/``` part will be your default home directory.)\n",
    "\n",
    "- Type in the following commands to copy your public key (assuming you have saved your keys to the default location):\n",
    "```bash\n",
    "cat ~/.ssh/id_rsa.pub\n",
    "```"
   ]
  },
  {
   "cell_type": "markdown",
   "metadata": {},
   "source": [
    "You should see something like this pop up on your screen:\n",
    "```\n",
    "ssh-rsa AAAAB3NzaC1yc2EAAAADAQABAAABAQC76Ew4UJTblrl2c8RkCtVOKS2FDVzMm51fueE+SrIQxiPbeHy/64tK/TfUYGUie6Eq4sr5w0i6\n",
    "LoMXGNKlfwX8O3nym/coitxTRXcOalGb/CbPIWDN9nvlCa+JB/oYRMTmff/Is6VJur+Ir2eJZnHiB9BlmwjOoKusaqzXesjx0pym7QEEBTpCVF07\n",
    "lj5rkvAF1K/ia4tnkHRlnc7JDcAvOwQvkvL2swOrYYJhTGqThCwkEebEqEuDhC7UcX1itkaOd5KmCasGVHfgLkqp+QT5pEdaSzSm/iho0VvkNpPd\n",
    "+B0H5179/ZkUyN7jfSda0C54MAG+Hek8CNEkxyjpvS/R emily@Emilys-MacBook-Air.local\n",
    "```\n",
    "\n",
    "- Highlight **everything** in your terminal window and copy it with command c.\n",
    "- Paste the contents into an email and send it to me (brian.alan.yee@gmail.com). I will confirm with your username (typically **ucsd-trainXY**\\@tscc-login1.sdsc.edu)"
   ]
  },
  {
   "cell_type": "markdown",
   "metadata": {},
   "source": [
    "### Generate a public/private key pair (Windows)"
   ]
  },
  {
   "cell_type": "markdown",
   "metadata": {},
   "source": [
    "- Download [git bash](https://gitforwindows.org/)\n",
    "- Open the included terminal application (**Note**: This is distinct from the Windows \"powershell\" terminal application that comes natively installed on Windows!)\n",
    "- Follow the Mac/Ubuntu instructions"
   ]
  },
  {
   "cell_type": "markdown",
   "metadata": {},
   "source": [
    "# Log onto TSCC"
   ]
  },
  {
   "cell_type": "markdown",
   "metadata": {},
   "source": [
    "Using the username (provided by Brian) and passphrase (see: **REMEMBER THIS PASSPHRASE!**), login!\n",
    "```bash\n",
    "ssh ucsd-trainXY@tscc-login1.sdsc.edu # XY must be replaced by the ID assigned to you.\n",
    "```\n",
    "**Note**: Don't worry about the security warning at first (just type \"```yes```\"), it will always show up using a local machine that has never logged in before."
   ]
  },
  {
   "cell_type": "markdown",
   "metadata": {},
   "source": [
    "# Scratch"
   ]
  },
  {
   "cell_type": "markdown",
   "metadata": {},
   "source": [
    "Every user is allocated 100GB inside their home directory, which is typically used for permanent storage of processing scripts, notebooks, manuscript figures, etc. However this is not nearly enough to process large datasets, where intermediate files alone may take up several TB of space. Fortunately, TSCC provides a separate storage allocation specifically for temporary storage called *scratch*. For our purposes, consider this unlimited storage where we will do most of our processing. Let's make things easier by softlinking the path to scratch onto our home:\n",
    "\n",
    "```ln -s /oasis/tscc/scratch/ucsd-trainXY ~/scratch```\n",
    "\n",
    "**Note**: The ```~``` is another way of specifying your home directory, therefore typing ```~``` is identical to typing ```/home/ucsd-trainXY```."
   ]
  },
  {
   "cell_type": "markdown",
   "metadata": {},
   "source": [
    "# Screens"
   ]
  },
  {
   "cell_type": "markdown",
   "metadata": {},
   "source": [
    "Each time you open a terminal and login to TSCC, you're starting a new session. However, since these sessions are not persistent, closing your terminal window or logging out will also kill/stop any currently running job or command. Obviously this doesn't work for long-running jobs, so we will be using screens to keep your sessions running even after you've closed your terminal. By default, screens are kind of ugly, so we will be downloading and using a custom config file (.screenrc) that Olga (previous instructor) maintains. After you've logged into TSCC, download the config file:\n",
    "\n",
    "```bash\n",
    "cd ~ # change directory to your HOME\n",
    "wget https://raw.githubusercontent.com/olgabot/rcfiles/master/.screenrc\n",
    "```\n",
    "\n",
    "Then type ```screen```\n",
    "\n",
    "This .screenrc adds a status bar at the bottom of your screen, like this:\n",
    "\n",
    "![screen example](https://github.com/adam-p/markdown-here/raw/master/src/common/images/icon48.png \"Picture of TSCC login node highlighting the tscc-login\")\n"
   ]
  },
  {
   "cell_type": "markdown",
   "metadata": {},
   "source": [
    "### Common screen commands:\n",
    "\n",
    "**Note**: By default, screen commands use a \"control character\" ```a``` to prefix a \"screen\" command, however this configuration modifies the control character to be ```j``` instead. We do this because ```Ctrl-a``` is itself another command that you can use to move your cursor all the way to the beginning of the commandline. Just a personal preference.\n",
    "\n",
    "- **```screen```** : starts a new screen session\n",
    "- **```Ctrl-j, c```** : creates a new tab within a screen session\n",
    "- **```Ctrl-j, k```** : kills a screen tab \n",
    "- **```Ctrl-j, n```** and **```Ctrl-j, p```** : activates/toggles the \"next\" and \"previous\" tabs, respectively.\n",
    "- **```Ctrl-j, #```** : activates the numbered tab within a screen session\n",
    "- **```Ctrl-j, Shift-a```** : allows you to re-name a screen tab.\n",
    "\n",
    "### Attaching/detaching screen sessions:\n",
    "\n",
    "**Note**: Simply closing the terminal window (or shutting off your computer) with an active screen session will simply \"detach\" it from your terminal, meaning the screen (and all the programs within the session) will continue to run.\n",
    "- **```screen -r```** : Re-attach a screen (when you want to login and go back to an active screen)\n",
    "- **```screen -d -r #####```** : De-tach and re-attach a screen (should you have multiple screen sessions, you can decide which one to attach). The ```#####``` represents the screen ID (by default, screens are assigned a numeric ID which become apparent when you use multiple screens).\n",
    "\n",
    "**Note**: Last year, several students ran into issues because they accidentally started several screen sessions (sometimes screen sessions within a screen session). This is okay! Simply re-attach a defunct screen ```screen -d -r #####``` and ```Ctrl-j, k``` to kill tabs until the screen session ends. To avoid this, I recommend always typing ```screen -d -r``` which will either: \n",
    "\n",
    "1. re-attach an existing screen session, or \n",
    "2. complain that you don't have any active screen sessions. (Then you're free to ```screen```)"
   ]
  },
  {
   "cell_type": "markdown",
   "metadata": {},
   "source": [
    "# Working with TSCC"
   ]
  },
  {
   "cell_type": "markdown",
   "metadata": {},
   "source": [
    "As said before, TSCC is a cluster of computers managed by the TORQUE resource manager, which we will need to run requests or reserve resources through. \n",
    "\n",
    "\n",
    "#### When you login, you will be placed inside one of two login nodes (also called head nodes), which you can usually tell through the command prompt: \n",
    "\n",
    "![login node](https://github.com/adam-p/markdown-here/raw/master/src/common/images/icon48.png \"Picture of TSCC login node highlighting the tscc-login\")\n",
    "\n",
    "Head nodes serve as a default, but as they are unreserved resources, we recommend **not using these nodes to run jobs!** The world won't end, but you'll probably run out of memory quickly and your processes will likely die. Instead, we'll request resources from compute nodes.\n",
    "\n",
    "### There are two ways to request the resources:"
   ]
  },
  {
   "cell_type": "markdown",
   "metadata": {},
   "source": [
    "# Submitting a job: \n",
    "\n",
    "Use a submission script to run specific command-line tools (ie. STAR, bowtie). These jobs will use the requested resources to simply run the commands inside the submission script. Walltime (requested time to allocate to your command) will end as soon as the command finishes, so feel free to be liberal (I usually request double the amount of time I think I need per job to ensure that I won't run out of walltime). **This is the preferred method for running software**\n",
    "\n",
    "[Example submission script template can be found here]()"
   ]
  },
  {
   "cell_type": "markdown",
   "metadata": {},
   "source": [
    "# Submitting an interactive job: \n",
    "\n",
    "Instead of supplying a submission script, you may include the ```-I``` parameter, which means that when the request is granted, you will be redirected to a bash shell within the compute node, leaving you free to run any commands inside the shell until walltime is exhausted. Since your interactive node will last the entire walltime, please be considerate and not reserve resources for longer than you need (below is a typical request for an appropriate amoung of resources for the work we will be doing) **This is preferred for piloting commands or running software that requires you to interact with it**.\n",
    "\n",
    "Here is an example interactive command (requesting a 1-node, 1 processor-per-node ```nodes=1:ppn=1``` interactive session ```-I``` lasting 6 hours ```walltime=6:00:00``` using the Yeo lab queue ```-q home-yeo```. We are leaving the memory requirements up to Maui/Torque:\n",
    "```bash\n",
    "qsub -I -l walltime=6:00:00 -q home-yeo -l nodes=1:ppn=1\n",
    "```"
   ]
  },
  {
   "cell_type": "markdown",
   "metadata": {},
   "source": [
    "# Conda/Modules"
   ]
  },
  {
   "cell_type": "markdown",
   "metadata": {},
   "source": [
    "Our lab primarily uses conda to manage user-level packages (software installed for an individual user), and modules to manage system and lab-wide installations. For this course, we'll be using software that has already been made available lab-wide, so there shouldn't be a need to install anything individually. "
   ]
  },
  {
   "cell_type": "markdown",
   "metadata": {},
   "source": [
    "### Common module commands:\n",
    "\n",
    "- **```module avail```** : list all available modules\n",
    "- **```module load samtools/1.5```** : loads samtools 1.5 (samtools/1.5 can be replaced with any module/version available). Not specifying a version will cause the default module to load.\n",
    "- **```module list```** : lists all active modules, in the order they were loaded.\n",
    "- **```module unload samtools/1.5```** : unloads the samtools module. Generally it is good practice to unload modules after use, since they modify environment variables such as your ```$PATH```"
   ]
  },
  {
   "cell_type": "markdown",
   "metadata": {},
   "source": [
    "## Try loading and running the samtools module:\n",
    "\n",
    "```samtools``` (you should get: command not found)\n",
    "\n",
    "```module load samtools/1.5```\n",
    "\n",
    "```samtools --version``` (you should get: 1.5)"
   ]
  },
  {
   "cell_type": "markdown",
   "metadata": {},
   "source": [
    "## We will be using the following modules for this course:\n",
    "\n",
    "Try getting an interactive node and loading these modules:\n",
    "\n",
    "- seurat/3.0\n",
    "- scanpy\n",
    "- cellranger/3.0.2\n",
    "- dropseqtools/1.13\n",
    "\n",
    "**Note**: Many of our lab-wide modules simply modify your path to point to Singularity containers, which themselves contain the Seurat/Scanpy/Cellranger software. These images are portable and can theoretically be run on any HPC with Singularity (2.4+) installed. This means that these images are theoretically capable of running on your own cluster or local machine, provided that Singularity is installed."
   ]
  },
  {
   "cell_type": "markdown",
   "metadata": {},
   "source": [
    "# **Exercise: Use the cellranger module to get reads from a published dataset on GEO for re-processing**\n",
    "- In several cases, BAM files were stored on GEO in lieu of fastq files, however the Cellranger pipeline will only accept sequencing data in the form of fastqs. \n",
    "- Load the cellranger module and see if you can use their software to convert a [BAM file from GEO](https://trace.ncbi.nlm.nih.gov/Traces/sra/?run=SRR6254382).\n",
    "- You may find their online documentation useful. Google is your friend!"
   ]
  },
  {
   "cell_type": "markdown",
   "metadata": {},
   "source": [
    "# TL;DR"
   ]
  },
  {
   "cell_type": "markdown",
   "metadata": {},
   "source": [
    "```bash\n",
    "ssh ucsd-trainXY@tscc-login1.sdsc.edu\n",
    "cd ~\n",
    "ln -s /oasis/tscc/scratch/ucsd-trainXY ./scratch\n",
    "screen -d -r # OR screen if you don't already have an active session yet\n",
    "qsub -I -l walltime=6:00:00 -q home-yeo -l nodes=1:ppn=1\n",
    "module load cellranger\n",
    "cellranger\n",
    "```"
   ]
  },
  {
   "cell_type": "code",
   "execution_count": null,
   "metadata": {},
   "outputs": [],
   "source": []
  }
 ],
 "metadata": {
  "kernelspec": {
   "display_name": "encode3-manifest",
   "language": "python",
   "name": "python2"
  },
  "language_info": {
   "codemirror_mode": {
    "name": "ipython",
    "version": 2
   },
   "file_extension": ".py",
   "mimetype": "text/x-python",
   "name": "python",
   "nbconvert_exporter": "python",
   "pygments_lexer": "ipython2",
   "version": "2.7.15"
  }
 },
 "nbformat": 4,
 "nbformat_minor": 2
}
