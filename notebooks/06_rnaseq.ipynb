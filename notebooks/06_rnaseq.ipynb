{
 "cells": [
  {
   "cell_type": "markdown",
   "metadata": {},
   "source": [
    "RNASeq data processing can be broadly divided into two types: 1) Reference Genome Based (Most commonly used) 2) De Novo, where no reference genome is available (uncommon, mostly used on novel species). For this course, we will be soley focussing on reference based RNA-Seq data analysis. Reference genomes for many species is available through consortia such as NCBI, Ensembl, etc. \"Genome builds\" are periodically released as more regions and genes are annotated within a genome (eg: hg19, hg39 (https://www.gencodegenes.org/human/)). \n",
    "\n",
    "After sequencing is completed, you have a collection of sequencing reads for each sample in the form of a *fastq file*. In a reference-based RNAseq experiment, each sequencing read from a fastq file is *mapped* against the reference genome. There are several programs/workflows available to map reads to a genome such as TopHat suite (https://ccb.jhu.edu/software/tophat/index.shtml), STAR aligner (https://github.com/alexdobin/STAR) and StringTie suite (https://ccb.jhu.edu/software/stringtie/). RNASeq read aligners are *splicing-aware*, meaning they are able to map reads that skip introns / exons due to splicing events occuring across RNA transcripts.\n",
    "\n",
    "Common things to consider after read mapping is completed : \n",
    "1) What fraction of total reads successfully aligned to the genome ? Low fraction usually indicates contamination within your sample.\n",
    "2) What fraction uniquely mapped to the genome ? If each read has been derived from RNA molecules, each read must correspond to a unique location within the genome. However, a singificant fraction of reads can be expected to NOT map uniquely to the genome, due to the existence of repetitve regions (eg: rRNA). It is difficult to trace back the region from where a read was sequenced if the read derived from a repetive region that is present across multiple locations within the genome.\n",
    "\n",
    "Once every read has been sufficiently mapped to a corresponding location across the genome, we can quantify the number of reads mapping across each gene/transcript/exon. Since the number of reads generated across a gene can be directly corelated with the length of the gene and also with the sequencing depth, the read counts across a sample must be normalized. There are several ways to perform read count normalization: 1) RPKM/FPKM (Reads/Fragments Per Kilobase of transcript per Million mapped reads) 2) TPM (Transcripts Per Million mapped reads) 3) RPM (Reads Per Million mapped reads)"
   ]
  },
  {
   "cell_type": "markdown",
   "metadata": {},
   "source": [
    "## Some important RNASeq data terminologies :\n",
    "We will be using these terms throughout the course\n",
    "\n",
    "1) Fastq: This is a standardized file format to store sequencing reads for each sample. \n",
    "\n",
    "2) Reference genome : A representation set of sequences assembled through previous studies that best represents the organization of genes within a genome\n",
    "\n",
    "3) Annotation : Each gene within a reference genome is assigned coordinates; eg: chr1:10,000-12,000. Each gene is further *annotated* by defining the location of UTRs, exons and introns within the gene. Commonly used annotations are provided from Gencode (https://www.gencodegenes.org/human/) and UCSC (https://genome.ucsc.edu/cgi-bin/hgTables).\n",
    "\n",
    "4) Alignment / Alignment Tool / Aligners : Alignment is the process of identifying the region within the genome from which a read was derived. This is done by matching the read sequence with the genome sequence to find a perfect match.\n",
    "\n",
    "5) SAM / BAM files : SAM file if a standardized file format to store alignment records for each read (https://samtools.github.io/hts-specs/SAMv1.pdf). A BAM file is a binary or compressed version of SAM files. BAM files are not human readable, unlike SAM files.\n",
    "\n",
    "6) Gene Expression : Broad term for the number of reads derived from a gene (could be a normalized count).\n",
    "\n",
    "7) Differential Gene Expression (DGE) : A gene that a expression significantly higher/lower between two experimental conditions."
   ]
  },
  {
   "cell_type": "code",
   "execution_count": 1,
   "metadata": {
    "collapsed": true
   },
   "outputs": [],
   "source": [
    "import os\n",
    "import numpy as np\n",
    "import pandas as pd"
   ]
  },
  {
   "cell_type": "markdown",
   "metadata": {},
   "source": [
    "We will be using a Zika virus study as an example dataset. \n",
    "**The commands below are for representational purposes only. Please run this notebook in spare time**"
   ]
  },
  {
   "cell_type": "markdown",
   "metadata": {},
   "source": [
    "Below we assign some global variables that will be used across the rest of the notebook.    \n",
    "**Please change these variables accordingly if you intend to use this for other studies. **"
   ]
  },
  {
   "cell_type": "markdown",
   "metadata": {},
   "source": [
    "### Download publicly available GEO / SRA data"
   ]
  },
  {
   "cell_type": "code",
   "execution_count": 2,
   "metadata": {
    "collapsed": true
   },
   "outputs": [],
   "source": [
    "# The URL for the SRA study (project), usually in a SRPxxxxx folder including several SRRxxxxx folders (samples)\n",
    "#os.environ['FTP_URL'] = 'ftp://ftp-trace.ncbi.nlm.nih.gov/sra/sra-instant/reads/ByStudy/sra/SRP/SRP070/SRP070895/'\n",
    "\n",
    "# The working directory to store all the sequencing data, will be created if not exists\n",
    "os.environ['WORKDIR'] = '/oasis/tscc/scratch/shsathe/Zika/'\n",
    "!mkdir -p $WORKDIR\n",
    "# The directory for the reference genome\n",
    "os.environ['GENOMEDIR'] = '/projects/ps-yeolab4/software/rnaseq/0.0.2/examples/inputs/hg19_star_sjdb/'"
   ]
  },
  {
   "cell_type": "markdown",
   "metadata": {},
   "source": [
    "# Probably don't need next two blocks"
   ]
  },
  {
   "cell_type": "code",
   "execution_count": 3,
   "metadata": {
    "scrolled": true
   },
   "outputs": [
    {
     "name": "stdout",
     "output_type": "stream",
     "text": [
      "--2016-06-23 11:53:28--  ftp://ftp-trace.ncbi.nlm.nih.gov/sra/sra-instant/reads/ByStudy/sra/SRP/SRP070/SRP070895/\n",
      "           => 'data/Zika/.listing'\n",
      "Resolving ftp-trace.ncbi.nlm.nih.gov... 130.14.250.13, 2607:f220:41e:250::7\n",
      "Connecting to ftp-trace.ncbi.nlm.nih.gov|130.14.250.13|:21... connected.\n",
      "Logging in as anonymous ... Logged in!\n",
      "==> SYST ... done.    ==> PWD ... done.\n",
      "==> TYPE I ... done.  ==> CWD (1) /sra/sra-instant/reads/ByStudy/sra/SRP/SRP070/SRP070895 ... done.\n",
      "==> PASV ... done.    ==> LIST ... done.\n",
      "\n",
      ".listing                [ <=>                ]     600  --.-KB/s    in 0.003s  \n",
      "\n",
      "2016-06-23 11:53:28 (209 KB/s) - 'data/Zika/.listing' saved [600]\n",
      "\n",
      "Removed 'data/Zika/.listing'.\n",
      "--2016-06-23 11:53:28--  ftp://ftp-trace.ncbi.nlm.nih.gov/sra/sra-instant/reads/ByStudy/sra/SRP/SRP070/SRP070895/SRR3191542/\n",
      "           => 'data/Zika/SRR3191542/.listing'\n",
      "==> CWD (1) /sra/sra-instant/reads/ByStudy/sra/SRP/SRP070/SRP070895/SRR3191542 ... done.\n",
      "==> PASV ... done.    ==> LIST ... done.\n",
      "\n",
      "SRR3191542/.listing     [ <=>                ]      73  --.-KB/s    in 0.001s  \n",
      "\n",
      "2016-06-23 11:53:28 (84.3 KB/s) - 'data/Zika/SRR3191542/.listing' saved [73]\n",
      "\n",
      "Removed 'data/Zika/SRR3191542/.listing'.\n",
      "--2016-06-23 11:53:28--  ftp://ftp-trace.ncbi.nlm.nih.gov/sra/sra-instant/reads/ByStudy/sra/SRP/SRP070/SRP070895/SRR3191542/SRR3191542.sra\n",
      "           => 'data/Zika/SRR3191542/SRR3191542.sra'\n",
      "==> CWD not required.\n",
      "==> PASV ... done.    ==> RETR SRR3191542.sra ... done.\n",
      "Length: 486949093 (464M)\n",
      "\n",
      "SRR3191542/SRR31915 100%[===================>] 464.39M  84.8MB/s    in 6.0s    \n",
      "\n",
      "2016-06-23 11:53:34 (77.8 MB/s) - 'data/Zika/SRR3191542/SRR3191542.sra' saved [486949093]\n",
      "\n",
      "--2016-06-23 11:53:34--  ftp://ftp-trace.ncbi.nlm.nih.gov/sra/sra-instant/reads/ByStudy/sra/SRP/SRP070/SRP070895/SRR3191543/\n",
      "           => 'data/Zika/SRR3191543/.listing'\n",
      "==> CWD (1) /sra/sra-instant/reads/ByStudy/sra/SRP/SRP070/SRP070895/SRR3191543 ... done.\n",
      "==> PASV ... done.    ==> LIST ... done.\n",
      "\n",
      "SRR3191543/.listing     [ <=>                ]      73  --.-KB/s    in 0.001s  \n",
      "\n",
      "2016-06-23 11:53:34 (63.3 KB/s) - 'data/Zika/SRR3191543/.listing' saved [73]\n",
      "\n",
      "Removed 'data/Zika/SRR3191543/.listing'.\n",
      "--2016-06-23 11:53:34--  ftp://ftp-trace.ncbi.nlm.nih.gov/sra/sra-instant/reads/ByStudy/sra/SRP/SRP070/SRP070895/SRR3191543/SRR3191543.sra\n",
      "           => 'data/Zika/SRR3191543/SRR3191543.sra'\n",
      "==> CWD not required.\n",
      "==> PASV ... done.    ==> RETR SRR3191543.sra ... done.\n",
      "Length: 465054386 (444M)\n",
      "\n",
      "SRR3191543/SRR31915 100%[===================>] 443.51M  93.4MB/s    in 5.5s    \n",
      "\n",
      "2016-06-23 11:53:40 (80.4 MB/s) - 'data/Zika/SRR3191543/SRR3191543.sra' saved [465054386]\n",
      "\n",
      "--2016-06-23 11:53:40--  ftp://ftp-trace.ncbi.nlm.nih.gov/sra/sra-instant/reads/ByStudy/sra/SRP/SRP070/SRP070895/SRR3191544/\n",
      "           => 'data/Zika/SRR3191544/.listing'\n",
      "==> CWD (1) /sra/sra-instant/reads/ByStudy/sra/SRP/SRP070/SRP070895/SRR3191544 ... done.\n",
      "==> PASV ... done.    ==> LIST ... done.\n",
      "\n",
      "SRR3191544/.listing     [ <=>                ]      73  --.-KB/s    in 0.003s  \n",
      "\n",
      "2016-06-23 11:53:40 (25.4 KB/s) - 'data/Zika/SRR3191544/.listing' saved [73]\n",
      "\n",
      "Removed 'data/Zika/SRR3191544/.listing'.\n",
      "--2016-06-23 11:53:40--  ftp://ftp-trace.ncbi.nlm.nih.gov/sra/sra-instant/reads/ByStudy/sra/SRP/SRP070/SRP070895/SRR3191544/SRR3191544.sra\n",
      "           => 'data/Zika/SRR3191544/SRR3191544.sra'\n",
      "==> CWD not required.\n",
      "==> PASV ... done.    ==> RETR SRR3191544.sra ... done.\n",
      "Length: 450651106 (430M)\n",
      "\n",
      "SRR3191544/SRR31915 100%[===================>] 429.77M   101MB/s    in 5.0s    \n",
      "\n",
      "2016-06-23 11:53:45 (86.7 MB/s) - 'data/Zika/SRR3191544/SRR3191544.sra' saved [450651106]\n",
      "\n",
      "--2016-06-23 11:53:45--  ftp://ftp-trace.ncbi.nlm.nih.gov/sra/sra-instant/reads/ByStudy/sra/SRP/SRP070/SRP070895/SRR3191545/\n",
      "           => 'data/Zika/SRR3191545/.listing'\n",
      "==> CWD (1) /sra/sra-instant/reads/ByStudy/sra/SRP/SRP070/SRP070895/SRR3191545 ... done.\n",
      "==> PASV ... done.    ==> LIST ... done.\n",
      "\n",
      "SRR3191545/.listing     [ <=>                ]      73  --.-KB/s    in 0.002s  \n",
      "\n",
      "2016-06-23 11:53:45 (39.2 KB/s) - 'data/Zika/SRR3191545/.listing' saved [73]\n",
      "\n",
      "Removed 'data/Zika/SRR3191545/.listing'.\n",
      "--2016-06-23 11:53:45--  ftp://ftp-trace.ncbi.nlm.nih.gov/sra/sra-instant/reads/ByStudy/sra/SRP/SRP070/SRP070895/SRR3191545/SRR3191545.sra\n",
      "           => 'data/Zika/SRR3191545/SRR3191545.sra'\n",
      "==> CWD not required.\n",
      "==> PASV ... done.    ==> RETR SRR3191545.sra ... done.\n",
      "Length: 467255848 (446M)\n",
      "\n",
      "SRR3191545/SRR31915 100%[===================>] 445.61M   103MB/s    in 4.9s    \n",
      "\n",
      "2016-06-23 11:53:50 (91.8 MB/s) - 'data/Zika/SRR3191545/SRR3191545.sra' saved [467255848]\n",
      "\n",
      "--2016-06-23 11:53:50--  ftp://ftp-trace.ncbi.nlm.nih.gov/sra/sra-instant/reads/ByStudy/sra/SRP/SRP070/SRP070895/SRR3194428/\n",
      "           => 'data/Zika/SRR3194428/.listing'\n",
      "==> CWD (1) /sra/sra-instant/reads/ByStudy/sra/SRP/SRP070/SRP070895/SRR3194428 ... done.\n",
      "==> PASV ... done.    ==> LIST ... done.\n",
      "\n",
      "SRR3194428/.listing     [ <=>                ]      74  --.-KB/s    in 0.002s  \n",
      "\n",
      "2016-06-23 11:53:50 (33.3 KB/s) - 'data/Zika/SRR3194428/.listing' saved [74]\n",
      "\n",
      "Removed 'data/Zika/SRR3194428/.listing'.\n",
      "--2016-06-23 11:53:50--  ftp://ftp-trace.ncbi.nlm.nih.gov/sra/sra-instant/reads/ByStudy/sra/SRP/SRP070/SRP070895/SRR3194428/SRR3194428.sra\n",
      "           => 'data/Zika/SRR3194428/SRR3194428.sra'\n",
      "==> CWD not required.\n",
      "==> PASV ... done.    ==> RETR SRR3194428.sra ... done.\n",
      "Length: 2499769558 (2.3G)\n",
      "\n",
      "SRR3194428/SRR31944 100%[===================>]   2.33G  89.4MB/s    in 27s     \n",
      "\n",
      "2016-06-23 11:54:17 (88.0 MB/s) - 'data/Zika/SRR3194428/SRR3194428.sra' saved [2499769558]\n",
      "\n",
      "--2016-06-23 11:54:17--  ftp://ftp-trace.ncbi.nlm.nih.gov/sra/sra-instant/reads/ByStudy/sra/SRP/SRP070/SRP070895/SRR3194429/\n",
      "           => 'data/Zika/SRR3194429/.listing'\n",
      "==> CWD (1) /sra/sra-instant/reads/ByStudy/sra/SRP/SRP070/SRP070895/SRR3194429 ... done.\n",
      "==> PASV ... done.    ==> LIST ... done.\n",
      "\n",
      "SRR3194429/.listing     [ <=>                ]      74  --.-KB/s    in 0.001s  \n",
      "\n",
      "2016-06-23 11:54:17 (131 KB/s) - 'data/Zika/SRR3194429/.listing' saved [74]\n",
      "\n",
      "Removed 'data/Zika/SRR3194429/.listing'.\n",
      "--2016-06-23 11:54:17--  ftp://ftp-trace.ncbi.nlm.nih.gov/sra/sra-instant/reads/ByStudy/sra/SRP/SRP070/SRP070895/SRR3194429/SRR3194429.sra\n",
      "           => 'data/Zika/SRR3194429/SRR3194429.sra'\n",
      "==> CWD not required.\n",
      "==> PASV ... done.    ==> RETR SRR3194429.sra ... done.\n",
      "Length: 3242990685 (3.0G)\n",
      "\n",
      "SRR3194429/SRR31944 100%[===================>]   3.02G  95.5MB/s    in 35s     \n",
      "\n",
      "2016-06-23 11:54:52 (89.2 MB/s) - 'data/Zika/SRR3194429/SRR3194429.sra' saved [3242990685]\n",
      "\n",
      "--2016-06-23 11:54:52--  ftp://ftp-trace.ncbi.nlm.nih.gov/sra/sra-instant/reads/ByStudy/sra/SRP/SRP070/SRP070895/SRR3194430/\n",
      "           => 'data/Zika/SRR3194430/.listing'\n",
      "==> CWD (1) /sra/sra-instant/reads/ByStudy/sra/SRP/SRP070/SRP070895/SRR3194430 ... done.\n",
      "==> PASV ... done.    ==> LIST ... done.\n",
      "\n",
      "SRR3194430/.listing     [ <=>                ]      74  --.-KB/s    in 0.001s  \n",
      "\n",
      "2016-06-23 11:54:52 (132 KB/s) - 'data/Zika/SRR3194430/.listing' saved [74]\n",
      "\n",
      "Removed 'data/Zika/SRR3194430/.listing'.\n",
      "--2016-06-23 11:54:52--  ftp://ftp-trace.ncbi.nlm.nih.gov/sra/sra-instant/reads/ByStudy/sra/SRP/SRP070/SRP070895/SRR3194430/SRR3194430.sra\n",
      "           => 'data/Zika/SRR3194430/SRR3194430.sra'\n",
      "==> CWD not required.\n",
      "==> PASV ... done.    ==> RETR SRR3194430.sra ... done.\n",
      "Length: 2616536610 (2.4G)\n",
      "\n",
      "SRR3194430/SRR31944 100%[===================>]   2.44G  81.9MB/s    in 31s     \n",
      "\n",
      "2016-06-23 11:55:23 (81.0 MB/s) - 'data/Zika/SRR3194430/SRR3194430.sra' saved [2616536610]\n",
      "\n",
      "--2016-06-23 11:55:23--  ftp://ftp-trace.ncbi.nlm.nih.gov/sra/sra-instant/reads/ByStudy/sra/SRP/SRP070/SRP070895/SRR3194431/\n",
      "           => 'data/Zika/SRR3194431/.listing'\n",
      "==> CWD (1) /sra/sra-instant/reads/ByStudy/sra/SRP/SRP070/SRP070895/SRR3194431 ... done.\n",
      "==> PASV ... done.    ==> LIST ... done.\n",
      "\n",
      "SRR3194431/.listing     [ <=>                ]      74  --.-KB/s    in 0.001s  \n",
      "\n",
      "2016-06-23 11:55:23 (132 KB/s) - 'data/Zika/SRR3194431/.listing' saved [74]\n",
      "\n",
      "Removed 'data/Zika/SRR3194431/.listing'.\n",
      "--2016-06-23 11:55:23--  ftp://ftp-trace.ncbi.nlm.nih.gov/sra/sra-instant/reads/ByStudy/sra/SRP/SRP070/SRP070895/SRR3194431/SRR3194431.sra\n",
      "           => 'data/Zika/SRR3194431/SRR3194431.sra'\n",
      "==> CWD not required.\n",
      "==> PASV ... done.    ==> RETR SRR3194431.sra ... done.\n",
      "Length: 2287601650 (2.1G)\n",
      "\n",
      "SRR3194431/SRR31944 100%[===================>]   2.13G  94.4MB/s    in 24s     \n",
      "\n",
      "2016-06-23 11:55:47 (89.5 MB/s) - 'data/Zika/SRR3194431/SRR3194431.sra' saved [2287601650]\n",
      "\n",
      "FINISHED --2016-06-23 11:55:47--\n",
      "Total wall clock time: 2m 20s\n",
      "Downloaded: 8 files, 12G in 2m 18s (86.4 MB/s)\n"
     ]
    }
   ],
   "source": [
    "# Download the SRA files\n",
    "# This bash script is commented out because we don't want to download the files every time.\n",
    "!mkdir -p $WORKDIR\n",
    "!wget -r $FTP_URL \\\n",
    "    --no-parent -nH --cut-dirs=8 \\\n",
    "    -P $WORKDIR"
   ]
  },
  {
   "cell_type": "code",
   "execution_count": 4,
   "metadata": {},
   "outputs": [
    {
     "name": "stdout",
     "output_type": "stream",
     "text": [
      "-rw-r--r--  1 zichen  staff   464M Feb 26 21:21 data/Zika//SRR3191542/SRR3191542.sra\r\n",
      "-rw-r--r--  1 zichen  staff   444M Feb 26 21:22 data/Zika//SRR3191543/SRR3191543.sra\r\n",
      "-rw-r--r--  1 zichen  staff   430M Feb 26 21:21 data/Zika//SRR3191544/SRR3191544.sra\r\n",
      "-rw-r--r--  1 zichen  staff   446M Feb 26 21:21 data/Zika//SRR3191545/SRR3191545.sra\r\n",
      "-rw-r--r--  1 zichen  staff   2.3G Feb 29 17:19 data/Zika//SRR3194428/SRR3194428.sra\r\n",
      "-rw-r--r--  1 zichen  staff   3.0G Feb 29 17:20 data/Zika//SRR3194429/SRR3194429.sra\r\n",
      "-rw-r--r--  1 zichen  staff   2.4G Feb 29 17:21 data/Zika//SRR3194430/SRR3194430.sra\r\n",
      "-rw-r--r--  1 zichen  staff   2.1G Feb 29 17:09 data/Zika//SRR3194431/SRR3194431.sra\r\n"
     ]
    }
   ],
   "source": [
    "## Examine the downloaded SRA files downloaded\n",
    "!ls -lh $WORKDIR/SRR*/*.sra"
   ]
  },
  {
   "cell_type": "markdown",
   "metadata": {
    "collapsed": true
   },
   "source": [
    "### The downloaded SRA files are next processed by following these steps:\n",
    "1. `fastq-dump` in the SRA-toolkit to generate .fastq files\n",
    "2. `FastQC`<sup>[3](#ref3)</sup> to perform Quality Controls and generate QC report for the input RNA-seq data\n",
    "2. `STAR`<sup>[3](#ref3)</sup> for the read alignment\n",
    "3. `featureCounts`<sup>[4](#ref4)</sup> for assigning reads to genes"
   ]
  },
  {
   "cell_type": "markdown",
   "metadata": {},
   "source": [
    "#### 1. Extract fastq reads from SRA files using the NCBI SRA toolkit (https://trace.ncbi.nlm.nih.gov/Traces/sra/sra.cgi?view=software)"
   ]
  },
  {
   "cell_type": "code",
   "execution_count": 1,
   "metadata": {},
   "outputs": [
    {
     "name": "stdout",
     "output_type": "stream",
     "text": [
      "2019-06-20T20:25:09 fastq-dump.2.9.0 err: param empty while validating argument list - expected accession\r\n"
     ]
    }
   ],
   "source": [
    "!fastq-dump -I -split-spot "
   ]
  },
  {
   "cell_type": "markdown",
   "metadata": {},
   "source": [
    "#### 2. Perform quality control checks on fastq files using FASTQC (https://www.bioinformatics.babraham.ac.uk/projects/download.html)"
   ]
  },
  {
   "cell_type": "code",
   "execution_count": 2,
   "metadata": {},
   "outputs": [
    {
     "name": "stdout",
     "output_type": "stream",
     "text": [
      "Specified output directory '../fastQC_output' does not exist\r\n"
     ]
    }
   ],
   "source": [
    "!fastqc $fq -o ../fastQC_output"
   ]
  },
  {
   "cell_type": "markdown",
   "metadata": {},
   "source": [
    "#### 3. Perform genome alignment for fastq reads"
   ]
  },
  {
   "cell_type": "code",
   "execution_count": null,
   "metadata": {},
   "outputs": [],
   "source": [
    "!STAR \\\n",
    "--genomeDir $STAR_INDEX \\\n",
    "--sjdbGTFfile $GENOME_GTF \\\n",
    "--runThreadN $N_CPUS \\\n",
    "--outSAMstrandField intronMotif \\\n",
    "--outFilterIntronMotifs RemoveNoncanonical \\\n",
    "--outFileNamePrefix ../star_output/$basename \\\n",
    "--readFilesIn $fq \\\n",
    "--readFilesCommand zcat \\\n",
    "--outSAMtype BAM Unsorted \\\n",
    "--outReadsUnmapped Fastx \\\n",
    "--outSAMmode Full"
   ]
  },
  {
   "cell_type": "markdown",
   "metadata": {},
   "source": [
    "#### 4. Perform read count on annotated genes using FeatureCounts (http://subread.sourceforge.net/)"
   ]
  },
  {
   "cell_type": "code",
   "execution_count": null,
   "metadata": {},
   "outputs": [],
   "source": [
    "featureCounts \\\n",
    "-T $N_CPUS \\\n",
    "-t exon \\\n",
    "-g gene_id \\\n",
    "-a $GENOME_GTF \\\n",
    "-o ../featureCount_output/$outname \\\n",
    "$bam\n",
    "\n",
    "## Can run featureCounts on multiple bam files at the same time. Results for each bam will outputted to the same file \n",
    "## as a tab separated column."
   ]
  },
  {
   "cell_type": "markdown",
   "metadata": {},
   "source": [
    "## Example Dataset Features : \n",
    "The dataset provides brief tutorial / instructions to process and analyze the data. The commands and programs are also downloadable in the form of a docker image file ( This way you don't have to install and execute each program)."
   ]
  },
  {
   "cell_type": "markdown",
   "metadata": {},
   "source": [
    "The first publicly available study profiling gene expression changes after ZIKV infection of human cells was deposited into NCBI's Gene Expression Omnibus (GEO) in March 2016. The raw data is available (ftp://ftp-trace.ncbi.nlm.nih.gov/sra/sra-instant/reads/ByStudy/sra/SRP/SRP070/SRP070895/) from the Sequence Read Archive (SRA) with accession number GSE78711. In this study, gene expression was measured by RNA-seq using two platforms: MiSeq and NextSeq [[4]](#ref4) in duplicates. The total number of samples is eight, with four untreated samples and four infected samples. We first downloaded the raw sequencing files from SRA and then converted to FASTQ files. Quality Control (QC) for the RNA-Seq reads was assessed using FastQC [[5]](#ref5). The reports generated by FastQC were in HTML format and can be accessed through hyperlinks from the IPython notebook. The reads in the FASTQ files were aligned to the human genome with Spliced Transcripts Alignment to a Reference (STAR) [[6]](#ref6). STAR is a leading aligner that accomplishes the alignment step faster and more accurately than other current alternatives [[6]](#ref6). We next applied featureCounts [[7]](#ref7) to assign reads to genes, and then applied the edgeR Bioconductor package [[8]](#ref8) to compute counts per million (CPM) and reads per kilobase million (RPKM). The next steps are performed in Python within the IPython notebook. We first filtered out genes that are not expressed or lowly expressed. Subsequently, we performed principal component analysis (PCA) (Fig. 1). The PCA plots show that the samples cluster by infected vs. control cells, but also by platform. Next, we visualized the 800 genes with the largest variance using an interactive hierarchical clustering (HC) plot (Fig. 2). This analysis separates the groups of genes that are differentially expressed by infected vs. control from those that are differential by platform. The visualization of the clusters is implemented with an interactive external web-based data visualization tool called clustergrammer (http://amp.pharm.mssm.edu/clustergrammer/). Clustergrammer provides interactive searching, sorting and zoom capabilities.\n",
    "\n",
    "The following step is to identify the differentially expressed genes (DEG) between the two conditions. This is achieved with a unique method we developed called the Characteristic Direction (CD) [[9]](#ref9). The CD method is a multivariate method that we have previously demonstrated to outperform other leading methods that compute differential expression between two conditions [[9]](#ref9). Once we have ranked the lists of DEG, we submit these for signature analysis using two tools: Enrichr [[10]](#ref10) and L1000CDS2 [[11]](#ref11). Enrichr queries the up and down gene sets against over 180,000 annotated gene sets belonging to 90 gene set libraries covering pathway databases, ontologies, disease databases, and more [[10]](#ref10). The results from this enrichment analysis confirm that the downregulated genes after ZIKV infection are enriched for genes involved in cell cycle-related processes (Fig. 3a). These genes are enriched for targets of the transcription factors E2F4 and FOXM1 (Fig. 3b). Both transcription factors are known to regulate cell proliferation and play central role in many cancers. The downregulation of cell cycle genes was already reported in the original publication; nevertheless, we obtained more interesting results for the enriched terms that appeared most significant for the upregulated genes. Particularly, the top two terms from the mouse genome informatics (MGI) Mammalian Phenotype Level 4 library are abnormal nervous system (MP0003861) and abnormal brain morphology (MP0002152) (Table S1). This library associates gene knockouts in mice with mammalian phenotypes. These enriched terms enlist a short set of genes that potentially link ZIKV infection with the concerning observed microcephaly phenotype. Finally, to identify small molecules that can potentially either reverse or mimic ZIKV-induced gene expression changes, we query the ZIKV-induced signatures against the LINCS L1000 data. For this, we utilize L1000CDS2 [[11]](#ref11), a search engine that prioritize small molecules given a gene expression signature as input. L1000CDS2 contains 30,000 significant signatures that were processed from the LINCS L1000 data with the CD method. The results suggest small molecules that could be tested in follow-up studies in human cells for potential efficacy against ZIKV (Table S2).\n",
    "\n",
    "To ensure the reproducibility of the computational environment used for the whole RNA-Seq pipeline, we packaged all the software components used in this tutorial, including the command line tools, R packages, and Python packages into a Docker image. This Docker image is made publically available at https://hub.docker.com/r/maayanlab/zika/. The Docker image was created based on the specifications outlined on the official IPython’s Scipy Stack image (https://hub.docker.com/r/IPython/scipystack/). The additional command line tools, R scripts, and Python packages together with their dependencies were compiled and installed into the Docker image. The RNA-Seq pipeline Docker image was deployed onto our Mesos cluster, which allows users to run the IPython notebook interactively. The Docker image can also be downloaded and executed on local computers and servers, or deployed in the cloud if users have access to cloud provider services with a Docker Toolbox installed (https://www.docker.com/products/docker-toolbox). We also provide detailed instructions on how to download and execute the Docker image (https://hub.docker.com/r/maayanlab/zika/). \n",
    "\n",
    "The ‘Dockerization’ of the RNA-Seq pipeline facilitates reproducibility of the pipeline at the software level because the Docker image ensures that all versions of the software components are consistent and static. Dockerization also helps users to handle the complex installation of many dependencies required for the computational pipeline. Moreover, the Docker image can be executed on a single computer, clusters/servers and on the cloud. The only limitation of having a Docker image is that it prevents users from adding or altering the various steps which require additional software components and packages. However, advanced users can build their own Docker images based on our initial image to customize it for their needs."
   ]
  },
  {
   "cell_type": "code",
   "execution_count": null,
   "metadata": {},
   "outputs": [],
   "source": []
  }
 ],
 "metadata": {
  "kernelspec": {
   "display_name": "Python 2",
   "language": "python",
   "name": "python2"
  },
  "language_info": {
   "codemirror_mode": {
    "name": "ipython",
    "version": 2
   },
   "file_extension": ".py",
   "mimetype": "text/x-python",
   "name": "python",
   "nbconvert_exporter": "python",
   "pygments_lexer": "ipython2",
   "version": "2.7.15"
  }
 },
 "nbformat": 4,
 "nbformat_minor": 1
}
