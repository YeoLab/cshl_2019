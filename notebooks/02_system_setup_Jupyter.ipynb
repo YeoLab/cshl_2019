{
 "cells": [
  {
   "cell_type": "markdown",
   "metadata": {},
   "source": [
    "# Jupyter notebooks\n",
    "\n",
    "This notebook runs through how we will be using Jupyter notebooks to code and analyze scRNAseq data."
   ]
  },
  {
   "cell_type": "markdown",
   "metadata": {},
   "source": [
    "## TL;DR (from 01_system_setup_TSCC):\n",
    "```\n",
    "ssh ucsd-trainXY@tscc-login1.sdsc.edu\n",
    "cd\n",
    "ln -s /oasis/tscc/scratch/ucsd-trainXY ./scratch\n",
    "screen -d -r # OR screen if you don't already have an active session yet\n",
    "qsub -I -l walltime=6:00:00 -q home-yeo -l nodes=1:ppn=1\n",
    "```"
   ]
  },
  {
   "cell_type": "markdown",
   "metadata": {},
   "source": [
    "## There are several editors that you can use to code and/or modify text files:\n",
    "\n",
    "- [vi/vim](https://vim.rtorr.com/): text editor built into many Linux distributions\n",
    "- [emacs](https://gist.github.com/dherman/3238368): yet another text editor\n",
    "- [nano](http://www.cheat-sheets.org/saved-copy/Nano_Cheat_Sheet.pdf): yet another text editor\n",
    "- [pico](https://www.cs.colostate.edu/helpdocs/pico.html): yet another text editor...\n",
    "\n",
    "Feel free to choose one to learn on your own as they're useful for quickly writing/editing scripts and commands (and usually are installed by default). I like vim and nano, and recommend nano due to a lower learning curve. "
   ]
  },
  {
   "cell_type": "markdown",
   "metadata": {},
   "source": [
    "## Jupyter notebooks are web-based notebooks that integrates text editing with other data-science-friendly features. "
   ]
  },
  {
   "cell_type": "code",
   "execution_count": null,
   "metadata": {},
   "outputs": [],
   "source": []
  }
 ],
 "metadata": {
  "kernelspec": {
   "display_name": "Python 2",
   "language": "python",
   "name": "python2"
  },
  "language_info": {
   "codemirror_mode": {
    "name": "ipython",
    "version": 2
   },
   "file_extension": ".py",
   "mimetype": "text/x-python",
   "name": "python",
   "nbconvert_exporter": "python",
   "pygments_lexer": "ipython2",
   "version": "2.7.15"
  }
 },
 "nbformat": 4,
 "nbformat_minor": 2
}
