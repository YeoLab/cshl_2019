{
 "cells": [
  {
   "cell_type": "markdown",
   "metadata": {},
   "source": [
    "# Jupyter notebooks\n",
    "\n",
    "This notebook runs through how we will be using Jupyter notebooks to code and analyze scRNAseq data."
   ]
  },
  {
   "cell_type": "markdown",
   "metadata": {},
   "source": [
    "## TL;DR (from 01_system_setup_TSCC):\n",
    "```\n",
    "ssh ucsd-trainXY@tscc-login1.sdsc.edu\n",
    "cd\n",
    "ln -s /oasis/tscc/scratch/ucsd-trainXY ./scratch\n",
    "screen -d -r # OR screen if you don't already have an active session yet\n",
    "qsub -I -l walltime=6:00:00 -q home-yeo -l nodes=1:ppn=1\n",
    "```"
   ]
  },
  {
   "cell_type": "markdown",
   "metadata": {},
   "source": [
    "## There are several editors that you can use to code and/or modify text files:\n",
    "\n",
    "- [vi/vim](https://vim.rtorr.com/): text editor built into many Linux distributions\n",
    "- [emacs](https://gist.github.com/dherman/3238368): yet another text editor\n",
    "- [nano](http://www.cheat-sheets.org/saved-copy/Nano_Cheat_Sheet.pdf): yet another text editor\n",
    "- [pico](https://www.cs.colostate.edu/helpdocs/pico.html): yet another text editor...\n",
    "\n",
    "Feel free to choose one to learn on your own as they're useful for quickly writing/editing scripts and commands (and usually are installed by default). I like vim and nano, and recommend nano due to a lower learning curve. "
   ]
  },
  {
   "cell_type": "markdown",
   "metadata": {},
   "source": [
    "## Jupyter notebooks are web-based notebooks that integrates text editing with other data-science-friendly features. \n",
    "\n",
    "# You can:"
   ]
  },
  {
   "cell_type": "markdown",
   "metadata": {},
   "source": [
    "## write code and execute it without having to write an entire program:"
   ]
  },
  {
   "cell_type": "code",
   "execution_count": 1,
   "metadata": {},
   "outputs": [],
   "source": [
    "print(\"hello world!\")"
   ]
  },
  {
   "cell_type": "markdown",
   "metadata": {},
   "source": [
    "## document code with markdown:"
   ]
  },
  {
   "cell_type": "markdown",
   "metadata": {},
   "source": [
    "This notebook goes over some of the things you can do in **Jupyter**, including writing nicely formatted tables like so:\n",
    "\n",
    "| Tables   |      Are      |  Cool |\n",
    "|----------|---------------|-------|\n",
    "| col 1 is |  left-aligned | 1600  |\n",
    "| col 2 is |    centered   |   12  |\n",
    "| col 3 is | right-aligned |    1  |"
   ]
  },
  {
   "cell_type": "markdown",
   "metadata": {},
   "source": [
    "## generate and save plots:"
   ]
  },
  {
   "cell_type": "code",
   "execution_count": 2,
   "metadata": {},
   "outputs": [
    {
     "data": {
      "image/png": "[encoded data removed]",
      "text/plain": [
       "<Figure size 432x288 with 1 Axes>"
      ]
     },
     "metadata": {},
     "output_type": "display_data"
    }
   ],
   "source": [
    "%matplotlib inline\n",
    "import matplotlib.pyplot as plt\n",
    "import seaborn as sns\n",
    "import pandas as pd\n",
    "\n",
    "percent_time_doing_wetlab = 0.35\n",
    "percent_time_doing_drylab = 0.65\n",
    "some_values = {\n",
    "    'wetlab':percent_time_doing_wetlab,\n",
    "    'drylab':percent_time_doing_drylab\n",
    "}\n",
    "df = pd.DataFrame(some_values, index=['Course makeup'])\n",
    "fig, ax = plt.subplots()\n",
    "df.loc['Course makeup'].plot(kind='pie', ax=ax)\n",
    "ax.axis('equal')\n",
    "fig.savefig('my_pie.png')"
   ]
  },
  {
   "cell_type": "markdown",
   "metadata": {},
   "source": [
    "## embed images, webpages:"
   ]
  },
  {
   "cell_type": "code",
   "execution_count": 3,
   "metadata": {},
   "outputs": [
    {
     "data": {
      "text/html": [
       "\n",
       "        <iframe\n",
       "            width=\"800\"\n",
       "            height=\"650\"\n",
       "            src=\"http://byee4.github.io/iris.html\"\n",
       "            frameborder=\"0\"\n",
       "            allowfullscreen\n",
       "        ></iframe>\n",
       "        "
      ],
      "text/plain": [
       "<IPython.lib.display.IFrame at 0x1080cd310>"
      ]
     },
     "execution_count": 3,
     "metadata": {},
     "output_type": "execute_result"
    }
   ],
   "source": [
    "from IPython.display import IFrame    \n",
    "IFrame('http://byee4.github.io/iris.html', width=800, height=650)"
   ]
  },
  {
   "cell_type": "markdown",
   "metadata": {},
   "source": [
    "## run terminal commands:\n",
    "- use \"!\" prefixed onto the command inside a cell"
   ]
  },
  {
   "cell_type": "code",
   "execution_count": 4,
   "metadata": {},
   "outputs": [
    {
     "name": "stdout",
     "output_type": "stream",
     "text": [
      "-rw-r--r-- 1 brianyee staff 9395 Apr  7 00:49 my_pie.png\r\n"
     ]
    }
   ],
   "source": [
    "! ls -l my_pie.png"
   ]
  },
  {
   "cell_type": "markdown",
   "metadata": {},
   "source": [
    "## Other cool stuff"
   ]
  },
  {
   "cell_type": "markdown",
   "metadata": {},
   "source": [
    "- [optimize code](https://jakevdp.github.io/PythonDataScienceHandbook/01.07-timing-and-profiling.html)\n",
    "- [run workflows](https://github.com/jhamrick/nbflow)\n",
    "- [share code](https://mybinder.org/)\n",
    "- [so much more...](https://github.com/markusschanta/awesome-jupyter/blob/master/README.md)"
   ]
  },
  {
   "cell_type": "code",
   "execution_count": null,
   "metadata": {},
   "outputs": [],
   "source": []
  }
 ],
 "metadata": {
  "kernelspec": {
   "display_name": "Python 2",
   "language": "python",
   "name": "python2"
  },
  "language_info": {
   "codemirror_mode": {
    "name": "ipython",
    "version": 2
   },
   "file_extension": ".py",
   "mimetype": "text/x-python",
   "name": "python",
   "nbconvert_exporter": "python",
   "pygments_lexer": "ipython2",
   "version": "2.7.15"
  }
 },
 "nbformat": 4,
 "nbformat_minor": 2
}
